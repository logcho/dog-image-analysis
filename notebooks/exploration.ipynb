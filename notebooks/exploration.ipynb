{
 "cells": [
  {
   "cell_type": "markdown",
   "metadata": {},
   "source": [
    "# Lab Assignment Two: Exploring Image Data \n",
    "\n",
    "***Logan Choi and Kawther Aldosarei***\n",
    "\n",
    "## **1. Business Understanding**\n",
    "\n",
    "### Dataset Overview\n",
    "The Stanford Dogs Dataset is a comprehensive collection of images that includes 20,580 images of 120 breeds of dogs, collected from various sources on the web. Each image in the dataset is labeled with the corresponding breed of the dog, making it a well-defined prediction task for image classification.\n",
    "\n",
    "### Purpose of the Dataset\n",
    "This dataset was primarily created to facilitate research and development in the field of computer vision, particularly in training and evaluating image classification algorithms. By providing a large and diverse set of dog images, researchers can develop models that can accurately classify dog breeds, which has applications in various fields including pet identification, animal welfare, and commercial purposes such as pet insurance and breeding.\n",
    "\n",
    "### Prediction Task\n",
    "The primary prediction task for this dataset is to classify images of dogs into their respective breeds. This involves training machine learning models to learn the distinguishing features of each breed based on the images provided. \n",
    "\n",
    "### Business Value\n",
    "- **Veterinarians and Animal Shelters**: Could use the model to identify dog breeds for better health and care recommendations.\n",
    "- **Pet Insurance Companies**: Could leverage the model for breed identification to tailor insurance policies based on breed-specific health risks.\n",
    "- **Dog Breeders**: Could utilize the model to evaluate and promote their breeding practices based on breed standards.\n",
    "- **Researchers and Developers**: In the field of artificial intelligence, this dataset provides a platform for testing new algorithms and improving classification accuracy.\n",
    "\n",
    "### Importance of Data\n",
    "The Stanford Dogs Dataset is significant as it helps advance the understanding of image recognition tasks in deep learning. As dog breeds can have different physical characteristics and behaviors, accurately classifying these images can lead to insights that improve the quality of life for pets and their owners. Moreover, a well-performing prediction algorithm would need to achieve an accuracy of at least 85% to be considered useful for practical applications, ensuring reliable breed identification in real-world scenarios.\n",
    "\n",
    "### Expected Outcome\n",
    "The expected outcome of this analysis is to develop a robust image classification model capable of accurately predicting dog breeds from images in the Stanford Dogs Dataset. Specifically, we aim to:\n",
    "- **Achieve high classification accuracy**: Target an accuracy of at least 85% on a held-out test set.\n",
    "- **Generate meaningful visualizations**: Create visualizations that highlight the performance of the model and the characteristics of the data.\n",
    "- **Identify key features**: Use techniques such as PCA and feature extraction to understand which aspects of the images are most informative for distinguishing between breeds.\n",
    "- **Provide actionable insights**: Deliver a comprehensive report that includes recommendations for stakeholders based on the model's performance and analysis.\n",
    "\n",
    "========================================================================\n",
    "\n",
    "**Dataset**: Adult Income Dataset\n",
    "**URL**: https://www.kaggle.com/datasets/jessicali9530/stanford-dogs-dataset\n"
   ]
  },
  {
   "cell_type": "markdown",
   "metadata": {},
   "source": [
    "## **2. Data Preparation**"
   ]
  }
 ],
 "metadata": {
  "kernelspec": {
   "display_name": "Python 3",
   "language": "python",
   "name": "python3"
  },
  "language_info": {
   "codemirror_mode": {
    "name": "ipython",
    "version": 3
   },
   "file_extension": ".py",
   "mimetype": "text/x-python",
   "name": "python",
   "nbconvert_exporter": "python",
   "pygments_lexer": "ipython3",
   "version": "3.9.6"
  }
 },
 "nbformat": 4,
 "nbformat_minor": 2
}
